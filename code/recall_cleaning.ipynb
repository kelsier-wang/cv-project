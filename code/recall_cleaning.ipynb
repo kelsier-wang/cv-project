{
  "nbformat": 4,
  "nbformat_minor": 0,
  "metadata": {
    "colab": {
      "provenance": []
    },
    "kernelspec": {
      "name": "python3",
      "display_name": "Python 3"
    },
    "language_info": {
      "name": "python"
    },
    "accelerator": "GPU",
    "gpuClass": "standard"
  },
  "cells": [
    {
      "cell_type": "code",
      "source": [
        "!pip install fuzzywuzzy"
      ],
      "metadata": {
        "colab": {
          "base_uri": "https://localhost:8080/"
        },
        "id": "zUtxsBh7zeER",
        "outputId": "31f876b9-c176-48f0-f5af-e0b9d618f3a2"
      },
      "execution_count": 1,
      "outputs": [
        {
          "output_type": "stream",
          "name": "stdout",
          "text": [
            "Looking in indexes: https://pypi.org/simple, https://us-python.pkg.dev/colab-wheels/public/simple/\n",
            "Collecting fuzzywuzzy\n",
            "  Downloading fuzzywuzzy-0.18.0-py2.py3-none-any.whl (18 kB)\n",
            "Installing collected packages: fuzzywuzzy\n",
            "Successfully installed fuzzywuzzy-0.18.0\n"
          ]
        }
      ]
    },
    {
      "cell_type": "code",
      "execution_count": 2,
      "metadata": {
        "id": "Y6tD-eVcwlT9",
        "colab": {
          "base_uri": "https://localhost:8080/"
        },
        "outputId": "bcd1121f-035b-4843-e1a9-e59685259110"
      },
      "outputs": [
        {
          "output_type": "stream",
          "name": "stderr",
          "text": [
            "/usr/local/lib/python3.8/dist-packages/fuzzywuzzy/fuzz.py:11: UserWarning: Using slow pure-python SequenceMatcher. Install python-Levenshtein to remove this warning\n",
            "  warnings.warn('Using slow pure-python SequenceMatcher. Install python-Levenshtein to remove this warning')\n"
          ]
        }
      ],
      "source": [
        "from google.colab import files\n",
        "import numpy\n",
        "import pandas as pd\n",
        "import io\n",
        "import csv\n",
        "from fuzzywuzzy import fuzz\n",
        "from fuzzywuzzy import process"
      ]
    },
    {
      "cell_type": "code",
      "source": [
        "df = pd.read_excel('/content/sample_data/image_jpg_png.xlsx')\n",
        "pills = pd.unique(df['Name'])"
      ],
      "metadata": {
        "id": "fuAxwgvBx13X"
      },
      "execution_count": null,
      "outputs": []
    },
    {
      "cell_type": "code",
      "source": [
        "recalls = pd.read_excel('/content/sample_data/cder-recalls (1).xlsx')\n",
        "recalled_names = pd.unique(recalls['Product-Description'])"
      ],
      "metadata": {
        "id": "887kBTZTyebQ"
      },
      "execution_count": null,
      "outputs": []
    },
    {
      "cell_type": "code",
      "source": [
        "final=[]\n",
        "i = 1\n",
        "final.append(process.extract(pills[i], recalled_names)[0])\n",
        "print(pills[i],final)"
      ],
      "metadata": {
        "colab": {
          "base_uri": "https://localhost:8080/"
        },
        "id": "zaMd5IV92UM8",
        "outputId": "ec8e5f73-7966-470d-9cd8-2c81eddbf9db"
      },
      "execution_count": null,
      "outputs": [
        {
          "output_type": "stream",
          "name": "stdout",
          "text": [
            "PARNATE [('HeartMate 3', 64)]\n"
          ]
        }
      ]
    },
    {
      "cell_type": "code",
      "source": [
        "clean_pill = []\n",
        "for recalled in pills:\n",
        "    recalled = recalled.lower()\n",
        "    recalled = recalled.replace(\"capsules\", \"\")\n",
        "    recalled = recalled.replace(\"capsule\", \"\")\n",
        "    recalled = recalled.replace(\"tablets\", \"\")\n",
        "    recalled = recalled.replace(\"tablet\", \"\")\n",
        "    recalled = recalled.replace(\"caps\", \"\")\n",
        "    recalled = recalled.replace(\"cap\", \"\")\n",
        "    recalled = recalled.replace(\"tabs\", \"\")\n",
        "    recalled = recalled.replace(\"tab\", \"\")\n",
        "    recalled = recalled.replace(\"chewable\", \"\")\n",
        "    clean_pill.append(recalled)"
      ],
      "metadata": {
        "id": "wu69ugfh3AXG"
      },
      "execution_count": null,
      "outputs": []
    },
    {
      "cell_type": "code",
      "source": [
        "clean_recall = []\n",
        "for recalled in recalled_names:\n",
        "    recalled = recalled.lower()\n",
        "    recalled = recalled.replace(\"capsules\", \"\")\n",
        "    recalled = recalled.replace(\"capsule\", \"\")\n",
        "    recalled = recalled.replace(\"tablets\", \"\")\n",
        "    recalled = recalled.replace(\"tablet\", \"\")\n",
        "    recalled = recalled.replace(\"caps\", \"\")\n",
        "    recalled = recalled.replace(\"cap\", \"\")\n",
        "    recalled = recalled.replace(\"tabs\", \"\")\n",
        "    recalled = recalled.replace(\"tab\", \"\")\n",
        "    recalled = recalled.replace(\"chewable\", \"\")\n",
        "    clean_recall.append(recalled)"
      ],
      "metadata": {
        "id": "mzNy_2v65ZCy"
      },
      "execution_count": null,
      "outputs": []
    },
    {
      "cell_type": "code",
      "source": [
        "# clean_recall, clean_pill\n",
        "final=[]\n",
        "for i in range(0, 100):\n",
        "    final.append((clean_pill[i], process.extract(clean_pill[i], clean_recall)[0]))\n"
      ],
      "metadata": {
        "id": "G3nuBttV6cEo"
      },
      "execution_count": null,
      "outputs": []
    },
    {
      "cell_type": "code",
      "source": [
        "final={}\n",
        "temp = '\\t'.join(clean_recall)\n",
        "for i in range(0,len(clean_pill)):\n",
        "    final[pills[i]] = clean_pill[i] in temp\n",
        "        "
      ],
      "metadata": {
        "id": "Z68fWTiV8FD8"
      },
      "execution_count": null,
      "outputs": []
    },
    {
      "cell_type": "code",
      "source": [
        "recall_df = pd.DataFrame.from_dict(final,orient='index')\n",
        "recall_df.to_csv('recall')\n"
      ],
      "metadata": {
        "id": "WYIEyvXK99MF"
      },
      "execution_count": null,
      "outputs": []
    },
    {
      "cell_type": "code",
      "source": [],
      "metadata": {
        "id": "UEH1WbH8iC7J"
      },
      "execution_count": 4,
      "outputs": []
    }
  ]
}